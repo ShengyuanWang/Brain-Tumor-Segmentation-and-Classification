{
 "cells": [
  {
   "cell_type": "code",
   "execution_count": 3,
   "id": "08f4a24c",
   "metadata": {},
   "outputs": [],
   "source": [
    "import SimpleITK as sitk  #We can also use other libraries. e.g., NiBabel\n",
    "import os\n",
    "import sys\n",
    "import numpy as np\n",
    "from sh import gunzip"
   ]
  },
  {
   "cell_type": "code",
   "execution_count": 4,
   "id": "1a2f4214",
   "metadata": {},
   "outputs": [
    {
     "data": {
      "text/plain": [
       "'/mnt/2TBdrive/ShengyuanHonor/data/segData/2021/'"
      ]
     },
     "execution_count": 4,
     "metadata": {},
     "output_type": "execute_result"
    }
   ],
   "source": [
    "current='/mnt/2TBdrive/ShengyuanHonor/data/segData/2021/'\n",
    "current"
   ]
  },
  {
   "cell_type": "code",
   "execution_count": 5,
   "id": "daba614a",
   "metadata": {},
   "outputs": [],
   "source": [
    "folders = os.listdir(current)"
   ]
  },
  {
   "cell_type": "code",
   "execution_count": 9,
   "id": "50fb5b40",
   "metadata": {},
   "outputs": [
    {
     "name": "stdout",
     "output_type": "stream",
     "text": [
      "/mnt/2TBdrive/ShengyuanHonor/data/segData/2021/BraTS2021_00296/BraTS2021_00296_flair.nii\n",
      "/mnt/2TBdrive/ShengyuanHonor/data/segData/2021/BraTS2021_00000/BraTS2021_00000_flair.nii\n"
     ]
    }
   ],
   "source": [
    "for fold in folders:\n",
    "    folder_path = os.path.join(current, fold)\n",
    "    files = os.listdir(folder_path)\n",
    "    for file in files:\n",
    "        pos = folder_path + \"/\" + file\n",
    "        try:\n",
    "            gunzip(pos)\n",
    "        except:\n",
    "            print(pos)\n",
    "        "
   ]
  },
  {
   "cell_type": "code",
   "execution_count": 12,
   "id": "81c7cc6f",
   "metadata": {},
   "outputs": [],
   "source": [
    "direct = '/mnt/2TBdrive/ShengyuanHonor/data/segData/'\n",
    "prev = direct + '2021'\n",
    "new = direct + 'data'\n",
    "folders = os.listdir(prev)\n",
    "for folder in folders:\n",
    "    folder_path = os.path.join(prev, folder)\n",
    "    new_folder_path = os.path.join(new, folder)\n",
    "    os.rename(folder_path, new_folder_path)"
   ]
  },
  {
   "cell_type": "code",
   "execution_count": null,
   "id": "9d3f054e",
   "metadata": {},
   "outputs": [],
   "source": []
  }
 ],
 "metadata": {
  "kernelspec": {
   "display_name": "Python 3 (ipykernel)",
   "language": "python",
   "name": "python3"
  },
  "language_info": {
   "codemirror_mode": {
    "name": "ipython",
    "version": 3
   },
   "file_extension": ".py",
   "mimetype": "text/x-python",
   "name": "python",
   "nbconvert_exporter": "python",
   "pygments_lexer": "ipython3",
   "version": "3.10.5"
  }
 },
 "nbformat": 4,
 "nbformat_minor": 5
}
